{
  "nbformat": 4,
  "nbformat_minor": 0,
  "metadata": {
    "colab": {
      "provenance": []
    },
    "kernelspec": {
      "name": "python3",
      "display_name": "Python 3"
    },
    "language_info": {
      "name": "python"
    }
  },
  "cells": [
    {
      "cell_type": "code",
      "execution_count": null,
      "metadata": {
        "id": "FET43qrJESSm"
      },
      "outputs": [],
      "source": [
        "import numpy as np\n",
        "import pandas as pd\n",
        "import matplotlib.pyplot as plt"
      ]
    },
    {
      "cell_type": "code",
      "source": [
        "df = pd.read_csv('/content/project1.csv')"
      ],
      "metadata": {
        "id": "ANO5Kb0zEbVC"
      },
      "execution_count": null,
      "outputs": []
    },
    {
      "cell_type": "code",
      "source": [
        "df"
      ],
      "metadata": {
        "colab": {
          "base_uri": "https://localhost:8080/",
          "height": 423
        },
        "id": "Z0oySSPSE3zT",
        "outputId": "e6a4b704-6a95-4086-e5fd-dac4df6f65a8"
      },
      "execution_count": null,
      "outputs": [
        {
          "output_type": "execute_result",
          "data": {
            "text/plain": [
              "            V         H    S  M\n",
              "0    0.338157  0.000000  0.0  1\n",
              "1    0.320241  0.181818  0.0  1\n",
              "2    0.287009  0.272727  0.0  1\n",
              "3    0.256284  0.454545  0.0  1\n",
              "4    0.262840  0.545455  0.0  1\n",
              "..        ...       ...  ... ..\n",
              "333  0.323262  0.909091  0.4  5\n",
              "334  0.444108  0.181818  1.0  5\n",
              "335  0.353474  0.454545  1.0  5\n",
              "336  0.362537  0.727273  1.0  5\n",
              "337  0.314199  1.000000  1.0  5\n",
              "\n",
              "[338 rows x 4 columns]"
            ],
            "text/html": [
              "\n",
              "  <div id=\"df-28479484-ceb8-4ffb-ae51-733ae8f9d577\" class=\"colab-df-container\">\n",
              "    <div>\n",
              "<style scoped>\n",
              "    .dataframe tbody tr th:only-of-type {\n",
              "        vertical-align: middle;\n",
              "    }\n",
              "\n",
              "    .dataframe tbody tr th {\n",
              "        vertical-align: top;\n",
              "    }\n",
              "\n",
              "    .dataframe thead th {\n",
              "        text-align: right;\n",
              "    }\n",
              "</style>\n",
              "<table border=\"1\" class=\"dataframe\">\n",
              "  <thead>\n",
              "    <tr style=\"text-align: right;\">\n",
              "      <th></th>\n",
              "      <th>V</th>\n",
              "      <th>H</th>\n",
              "      <th>S</th>\n",
              "      <th>M</th>\n",
              "    </tr>\n",
              "  </thead>\n",
              "  <tbody>\n",
              "    <tr>\n",
              "      <th>0</th>\n",
              "      <td>0.338157</td>\n",
              "      <td>0.000000</td>\n",
              "      <td>0.0</td>\n",
              "      <td>1</td>\n",
              "    </tr>\n",
              "    <tr>\n",
              "      <th>1</th>\n",
              "      <td>0.320241</td>\n",
              "      <td>0.181818</td>\n",
              "      <td>0.0</td>\n",
              "      <td>1</td>\n",
              "    </tr>\n",
              "    <tr>\n",
              "      <th>2</th>\n",
              "      <td>0.287009</td>\n",
              "      <td>0.272727</td>\n",
              "      <td>0.0</td>\n",
              "      <td>1</td>\n",
              "    </tr>\n",
              "    <tr>\n",
              "      <th>3</th>\n",
              "      <td>0.256284</td>\n",
              "      <td>0.454545</td>\n",
              "      <td>0.0</td>\n",
              "      <td>1</td>\n",
              "    </tr>\n",
              "    <tr>\n",
              "      <th>4</th>\n",
              "      <td>0.262840</td>\n",
              "      <td>0.545455</td>\n",
              "      <td>0.0</td>\n",
              "      <td>1</td>\n",
              "    </tr>\n",
              "    <tr>\n",
              "      <th>...</th>\n",
              "      <td>...</td>\n",
              "      <td>...</td>\n",
              "      <td>...</td>\n",
              "      <td>...</td>\n",
              "    </tr>\n",
              "    <tr>\n",
              "      <th>333</th>\n",
              "      <td>0.323262</td>\n",
              "      <td>0.909091</td>\n",
              "      <td>0.4</td>\n",
              "      <td>5</td>\n",
              "    </tr>\n",
              "    <tr>\n",
              "      <th>334</th>\n",
              "      <td>0.444108</td>\n",
              "      <td>0.181818</td>\n",
              "      <td>1.0</td>\n",
              "      <td>5</td>\n",
              "    </tr>\n",
              "    <tr>\n",
              "      <th>335</th>\n",
              "      <td>0.353474</td>\n",
              "      <td>0.454545</td>\n",
              "      <td>1.0</td>\n",
              "      <td>5</td>\n",
              "    </tr>\n",
              "    <tr>\n",
              "      <th>336</th>\n",
              "      <td>0.362537</td>\n",
              "      <td>0.727273</td>\n",
              "      <td>1.0</td>\n",
              "      <td>5</td>\n",
              "    </tr>\n",
              "    <tr>\n",
              "      <th>337</th>\n",
              "      <td>0.314199</td>\n",
              "      <td>1.000000</td>\n",
              "      <td>1.0</td>\n",
              "      <td>5</td>\n",
              "    </tr>\n",
              "  </tbody>\n",
              "</table>\n",
              "<p>338 rows × 4 columns</p>\n",
              "</div>\n",
              "    <div class=\"colab-df-buttons\">\n",
              "\n",
              "  <div class=\"colab-df-container\">\n",
              "    <button class=\"colab-df-convert\" onclick=\"convertToInteractive('df-28479484-ceb8-4ffb-ae51-733ae8f9d577')\"\n",
              "            title=\"Convert this dataframe to an interactive table.\"\n",
              "            style=\"display:none;\">\n",
              "\n",
              "  <svg xmlns=\"http://www.w3.org/2000/svg\" height=\"24px\" viewBox=\"0 -960 960 960\">\n",
              "    <path d=\"M120-120v-720h720v720H120Zm60-500h600v-160H180v160Zm220 220h160v-160H400v160Zm0 220h160v-160H400v160ZM180-400h160v-160H180v160Zm440 0h160v-160H620v160ZM180-180h160v-160H180v160Zm440 0h160v-160H620v160Z\"/>\n",
              "  </svg>\n",
              "    </button>\n",
              "\n",
              "  <style>\n",
              "    .colab-df-container {\n",
              "      display:flex;\n",
              "      gap: 12px;\n",
              "    }\n",
              "\n",
              "    .colab-df-convert {\n",
              "      background-color: #E8F0FE;\n",
              "      border: none;\n",
              "      border-radius: 50%;\n",
              "      cursor: pointer;\n",
              "      display: none;\n",
              "      fill: #1967D2;\n",
              "      height: 32px;\n",
              "      padding: 0 0 0 0;\n",
              "      width: 32px;\n",
              "    }\n",
              "\n",
              "    .colab-df-convert:hover {\n",
              "      background-color: #E2EBFA;\n",
              "      box-shadow: 0px 1px 2px rgba(60, 64, 67, 0.3), 0px 1px 3px 1px rgba(60, 64, 67, 0.15);\n",
              "      fill: #174EA6;\n",
              "    }\n",
              "\n",
              "    .colab-df-buttons div {\n",
              "      margin-bottom: 4px;\n",
              "    }\n",
              "\n",
              "    [theme=dark] .colab-df-convert {\n",
              "      background-color: #3B4455;\n",
              "      fill: #D2E3FC;\n",
              "    }\n",
              "\n",
              "    [theme=dark] .colab-df-convert:hover {\n",
              "      background-color: #434B5C;\n",
              "      box-shadow: 0px 1px 3px 1px rgba(0, 0, 0, 0.15);\n",
              "      filter: drop-shadow(0px 1px 2px rgba(0, 0, 0, 0.3));\n",
              "      fill: #FFFFFF;\n",
              "    }\n",
              "  </style>\n",
              "\n",
              "    <script>\n",
              "      const buttonEl =\n",
              "        document.querySelector('#df-28479484-ceb8-4ffb-ae51-733ae8f9d577 button.colab-df-convert');\n",
              "      buttonEl.style.display =\n",
              "        google.colab.kernel.accessAllowed ? 'block' : 'none';\n",
              "\n",
              "      async function convertToInteractive(key) {\n",
              "        const element = document.querySelector('#df-28479484-ceb8-4ffb-ae51-733ae8f9d577');\n",
              "        const dataTable =\n",
              "          await google.colab.kernel.invokeFunction('convertToInteractive',\n",
              "                                                    [key], {});\n",
              "        if (!dataTable) return;\n",
              "\n",
              "        const docLinkHtml = 'Like what you see? Visit the ' +\n",
              "          '<a target=\"_blank\" href=https://colab.research.google.com/notebooks/data_table.ipynb>data table notebook</a>'\n",
              "          + ' to learn more about interactive tables.';\n",
              "        element.innerHTML = '';\n",
              "        dataTable['output_type'] = 'display_data';\n",
              "        await google.colab.output.renderOutput(dataTable, element);\n",
              "        const docLink = document.createElement('div');\n",
              "        docLink.innerHTML = docLinkHtml;\n",
              "        element.appendChild(docLink);\n",
              "      }\n",
              "    </script>\n",
              "  </div>\n",
              "\n",
              "\n",
              "<div id=\"df-72bf8113-3b82-4b55-aa75-488b3100aab3\">\n",
              "  <button class=\"colab-df-quickchart\" onclick=\"quickchart('df-72bf8113-3b82-4b55-aa75-488b3100aab3')\"\n",
              "            title=\"Suggest charts\"\n",
              "            style=\"display:none;\">\n",
              "\n",
              "<svg xmlns=\"http://www.w3.org/2000/svg\" height=\"24px\"viewBox=\"0 0 24 24\"\n",
              "     width=\"24px\">\n",
              "    <g>\n",
              "        <path d=\"M19 3H5c-1.1 0-2 .9-2 2v14c0 1.1.9 2 2 2h14c1.1 0 2-.9 2-2V5c0-1.1-.9-2-2-2zM9 17H7v-7h2v7zm4 0h-2V7h2v10zm4 0h-2v-4h2v4z\"/>\n",
              "    </g>\n",
              "</svg>\n",
              "  </button>\n",
              "\n",
              "<style>\n",
              "  .colab-df-quickchart {\n",
              "      --bg-color: #E8F0FE;\n",
              "      --fill-color: #1967D2;\n",
              "      --hover-bg-color: #E2EBFA;\n",
              "      --hover-fill-color: #174EA6;\n",
              "      --disabled-fill-color: #AAA;\n",
              "      --disabled-bg-color: #DDD;\n",
              "  }\n",
              "\n",
              "  [theme=dark] .colab-df-quickchart {\n",
              "      --bg-color: #3B4455;\n",
              "      --fill-color: #D2E3FC;\n",
              "      --hover-bg-color: #434B5C;\n",
              "      --hover-fill-color: #FFFFFF;\n",
              "      --disabled-bg-color: #3B4455;\n",
              "      --disabled-fill-color: #666;\n",
              "  }\n",
              "\n",
              "  .colab-df-quickchart {\n",
              "    background-color: var(--bg-color);\n",
              "    border: none;\n",
              "    border-radius: 50%;\n",
              "    cursor: pointer;\n",
              "    display: none;\n",
              "    fill: var(--fill-color);\n",
              "    height: 32px;\n",
              "    padding: 0;\n",
              "    width: 32px;\n",
              "  }\n",
              "\n",
              "  .colab-df-quickchart:hover {\n",
              "    background-color: var(--hover-bg-color);\n",
              "    box-shadow: 0 1px 2px rgba(60, 64, 67, 0.3), 0 1px 3px 1px rgba(60, 64, 67, 0.15);\n",
              "    fill: var(--button-hover-fill-color);\n",
              "  }\n",
              "\n",
              "  .colab-df-quickchart-complete:disabled,\n",
              "  .colab-df-quickchart-complete:disabled:hover {\n",
              "    background-color: var(--disabled-bg-color);\n",
              "    fill: var(--disabled-fill-color);\n",
              "    box-shadow: none;\n",
              "  }\n",
              "\n",
              "  .colab-df-spinner {\n",
              "    border: 2px solid var(--fill-color);\n",
              "    border-color: transparent;\n",
              "    border-bottom-color: var(--fill-color);\n",
              "    animation:\n",
              "      spin 1s steps(1) infinite;\n",
              "  }\n",
              "\n",
              "  @keyframes spin {\n",
              "    0% {\n",
              "      border-color: transparent;\n",
              "      border-bottom-color: var(--fill-color);\n",
              "      border-left-color: var(--fill-color);\n",
              "    }\n",
              "    20% {\n",
              "      border-color: transparent;\n",
              "      border-left-color: var(--fill-color);\n",
              "      border-top-color: var(--fill-color);\n",
              "    }\n",
              "    30% {\n",
              "      border-color: transparent;\n",
              "      border-left-color: var(--fill-color);\n",
              "      border-top-color: var(--fill-color);\n",
              "      border-right-color: var(--fill-color);\n",
              "    }\n",
              "    40% {\n",
              "      border-color: transparent;\n",
              "      border-right-color: var(--fill-color);\n",
              "      border-top-color: var(--fill-color);\n",
              "    }\n",
              "    60% {\n",
              "      border-color: transparent;\n",
              "      border-right-color: var(--fill-color);\n",
              "    }\n",
              "    80% {\n",
              "      border-color: transparent;\n",
              "      border-right-color: var(--fill-color);\n",
              "      border-bottom-color: var(--fill-color);\n",
              "    }\n",
              "    90% {\n",
              "      border-color: transparent;\n",
              "      border-bottom-color: var(--fill-color);\n",
              "    }\n",
              "  }\n",
              "</style>\n",
              "\n",
              "  <script>\n",
              "    async function quickchart(key) {\n",
              "      const quickchartButtonEl =\n",
              "        document.querySelector('#' + key + ' button');\n",
              "      quickchartButtonEl.disabled = true;  // To prevent multiple clicks.\n",
              "      quickchartButtonEl.classList.add('colab-df-spinner');\n",
              "      try {\n",
              "        const charts = await google.colab.kernel.invokeFunction(\n",
              "            'suggestCharts', [key], {});\n",
              "      } catch (error) {\n",
              "        console.error('Error during call to suggestCharts:', error);\n",
              "      }\n",
              "      quickchartButtonEl.classList.remove('colab-df-spinner');\n",
              "      quickchartButtonEl.classList.add('colab-df-quickchart-complete');\n",
              "    }\n",
              "    (() => {\n",
              "      let quickchartButtonEl =\n",
              "        document.querySelector('#df-72bf8113-3b82-4b55-aa75-488b3100aab3 button');\n",
              "      quickchartButtonEl.style.display =\n",
              "        google.colab.kernel.accessAllowed ? 'block' : 'none';\n",
              "    })();\n",
              "  </script>\n",
              "</div>\n",
              "\n",
              "  <div id=\"id_977ecae5-bcda-4064-ad70-2d736ef67af1\">\n",
              "    <style>\n",
              "      .colab-df-generate {\n",
              "        background-color: #E8F0FE;\n",
              "        border: none;\n",
              "        border-radius: 50%;\n",
              "        cursor: pointer;\n",
              "        display: none;\n",
              "        fill: #1967D2;\n",
              "        height: 32px;\n",
              "        padding: 0 0 0 0;\n",
              "        width: 32px;\n",
              "      }\n",
              "\n",
              "      .colab-df-generate:hover {\n",
              "        background-color: #E2EBFA;\n",
              "        box-shadow: 0px 1px 2px rgba(60, 64, 67, 0.3), 0px 1px 3px 1px rgba(60, 64, 67, 0.15);\n",
              "        fill: #174EA6;\n",
              "      }\n",
              "\n",
              "      [theme=dark] .colab-df-generate {\n",
              "        background-color: #3B4455;\n",
              "        fill: #D2E3FC;\n",
              "      }\n",
              "\n",
              "      [theme=dark] .colab-df-generate:hover {\n",
              "        background-color: #434B5C;\n",
              "        box-shadow: 0px 1px 3px 1px rgba(0, 0, 0, 0.15);\n",
              "        filter: drop-shadow(0px 1px 2px rgba(0, 0, 0, 0.3));\n",
              "        fill: #FFFFFF;\n",
              "      }\n",
              "    </style>\n",
              "    <button class=\"colab-df-generate\" onclick=\"generateWithVariable('df')\"\n",
              "            title=\"Generate code using this dataframe.\"\n",
              "            style=\"display:none;\">\n",
              "\n",
              "  <svg xmlns=\"http://www.w3.org/2000/svg\" height=\"24px\"viewBox=\"0 0 24 24\"\n",
              "       width=\"24px\">\n",
              "    <path d=\"M7,19H8.4L18.45,9,17,7.55,7,17.6ZM5,21V16.75L18.45,3.32a2,2,0,0,1,2.83,0l1.4,1.43a1.91,1.91,0,0,1,.58,1.4,1.91,1.91,0,0,1-.58,1.4L9.25,21ZM18.45,9,17,7.55Zm-12,3A5.31,5.31,0,0,0,4.9,8.1,5.31,5.31,0,0,0,1,6.5,5.31,5.31,0,0,0,4.9,4.9,5.31,5.31,0,0,0,6.5,1,5.31,5.31,0,0,0,8.1,4.9,5.31,5.31,0,0,0,12,6.5,5.46,5.46,0,0,0,6.5,12Z\"/>\n",
              "  </svg>\n",
              "    </button>\n",
              "    <script>\n",
              "      (() => {\n",
              "      const buttonEl =\n",
              "        document.querySelector('#id_977ecae5-bcda-4064-ad70-2d736ef67af1 button.colab-df-generate');\n",
              "      buttonEl.style.display =\n",
              "        google.colab.kernel.accessAllowed ? 'block' : 'none';\n",
              "\n",
              "      buttonEl.onclick = () => {\n",
              "        google.colab.notebook.generateWithVariable('df');\n",
              "      }\n",
              "      })();\n",
              "    </script>\n",
              "  </div>\n",
              "\n",
              "    </div>\n",
              "  </div>\n"
            ],
            "application/vnd.google.colaboratory.intrinsic+json": {
              "type": "dataframe",
              "variable_name": "df",
              "summary": "{\n  \"name\": \"df\",\n  \"rows\": 338,\n  \"fields\": [\n    {\n      \"column\": \"V\",\n      \"properties\": {\n        \"dtype\": \"number\",\n        \"std\": 0.1958190262042624,\n        \"min\": 0.197733879,\n        \"max\": 0.999998728,\n        \"num_unique_values\": 196,\n        \"samples\": [\n          0.383685358,\n          0.24220528,\n          0.274924175\n        ],\n        \"semantic_type\": \"\",\n        \"description\": \"\"\n      }\n    },\n    {\n      \"column\": \"H\",\n      \"properties\": {\n        \"dtype\": \"number\",\n        \"std\": 0.3060433913772604,\n        \"min\": 0.0,\n        \"max\": 1.0,\n        \"num_unique_values\": 12,\n        \"samples\": [\n          0.363636364,\n          0.090909091,\n          0.0\n        ],\n        \"semantic_type\": \"\",\n        \"description\": \"\"\n      }\n    },\n    {\n      \"column\": \"S\",\n      \"properties\": {\n        \"dtype\": \"number\",\n        \"std\": 0.34424363243453365,\n        \"min\": 0.0,\n        \"max\": 1.0,\n        \"num_unique_values\": 6,\n        \"samples\": [\n          0.0,\n          0.6,\n          1.0\n        ],\n        \"semantic_type\": \"\",\n        \"description\": \"\"\n      }\n    },\n    {\n      \"column\": \"M\",\n      \"properties\": {\n        \"dtype\": \"number\",\n        \"std\": 1,\n        \"min\": 1,\n        \"max\": 5,\n        \"num_unique_values\": 5,\n        \"samples\": [\n          2,\n          5,\n          3\n        ],\n        \"semantic_type\": \"\",\n        \"description\": \"\"\n      }\n    }\n  ]\n}"
            }
          },
          "metadata": {},
          "execution_count": 3
        }
      ]
    },
    {
      "cell_type": "code",
      "source": [
        "df.columns=['v', 'h','s','m']"
      ],
      "metadata": {
        "id": "_gZFYWC5FJwq"
      },
      "execution_count": null,
      "outputs": []
    },
    {
      "cell_type": "code",
      "source": [
        "df"
      ],
      "metadata": {
        "colab": {
          "base_uri": "https://localhost:8080/",
          "height": 423
        },
        "id": "q-Q6y0skGRWe",
        "outputId": "0ffef315-0f08-41c0-9d8e-51a9039d289c"
      },
      "execution_count": null,
      "outputs": [
        {
          "output_type": "execute_result",
          "data": {
            "text/plain": [
              "            v         h    s  m\n",
              "0    0.338157  0.000000  0.0  1\n",
              "1    0.320241  0.181818  0.0  1\n",
              "2    0.287009  0.272727  0.0  1\n",
              "3    0.256284  0.454545  0.0  1\n",
              "4    0.262840  0.545455  0.0  1\n",
              "..        ...       ...  ... ..\n",
              "333  0.323262  0.909091  0.4  5\n",
              "334  0.444108  0.181818  1.0  5\n",
              "335  0.353474  0.454545  1.0  5\n",
              "336  0.362537  0.727273  1.0  5\n",
              "337  0.314199  1.000000  1.0  5\n",
              "\n",
              "[338 rows x 4 columns]"
            ],
            "text/html": [
              "\n",
              "  <div id=\"df-d401b341-8448-46d9-bf7a-879edf21e93d\" class=\"colab-df-container\">\n",
              "    <div>\n",
              "<style scoped>\n",
              "    .dataframe tbody tr th:only-of-type {\n",
              "        vertical-align: middle;\n",
              "    }\n",
              "\n",
              "    .dataframe tbody tr th {\n",
              "        vertical-align: top;\n",
              "    }\n",
              "\n",
              "    .dataframe thead th {\n",
              "        text-align: right;\n",
              "    }\n",
              "</style>\n",
              "<table border=\"1\" class=\"dataframe\">\n",
              "  <thead>\n",
              "    <tr style=\"text-align: right;\">\n",
              "      <th></th>\n",
              "      <th>v</th>\n",
              "      <th>h</th>\n",
              "      <th>s</th>\n",
              "      <th>m</th>\n",
              "    </tr>\n",
              "  </thead>\n",
              "  <tbody>\n",
              "    <tr>\n",
              "      <th>0</th>\n",
              "      <td>0.338157</td>\n",
              "      <td>0.000000</td>\n",
              "      <td>0.0</td>\n",
              "      <td>1</td>\n",
              "    </tr>\n",
              "    <tr>\n",
              "      <th>1</th>\n",
              "      <td>0.320241</td>\n",
              "      <td>0.181818</td>\n",
              "      <td>0.0</td>\n",
              "      <td>1</td>\n",
              "    </tr>\n",
              "    <tr>\n",
              "      <th>2</th>\n",
              "      <td>0.287009</td>\n",
              "      <td>0.272727</td>\n",
              "      <td>0.0</td>\n",
              "      <td>1</td>\n",
              "    </tr>\n",
              "    <tr>\n",
              "      <th>3</th>\n",
              "      <td>0.256284</td>\n",
              "      <td>0.454545</td>\n",
              "      <td>0.0</td>\n",
              "      <td>1</td>\n",
              "    </tr>\n",
              "    <tr>\n",
              "      <th>4</th>\n",
              "      <td>0.262840</td>\n",
              "      <td>0.545455</td>\n",
              "      <td>0.0</td>\n",
              "      <td>1</td>\n",
              "    </tr>\n",
              "    <tr>\n",
              "      <th>...</th>\n",
              "      <td>...</td>\n",
              "      <td>...</td>\n",
              "      <td>...</td>\n",
              "      <td>...</td>\n",
              "    </tr>\n",
              "    <tr>\n",
              "      <th>333</th>\n",
              "      <td>0.323262</td>\n",
              "      <td>0.909091</td>\n",
              "      <td>0.4</td>\n",
              "      <td>5</td>\n",
              "    </tr>\n",
              "    <tr>\n",
              "      <th>334</th>\n",
              "      <td>0.444108</td>\n",
              "      <td>0.181818</td>\n",
              "      <td>1.0</td>\n",
              "      <td>5</td>\n",
              "    </tr>\n",
              "    <tr>\n",
              "      <th>335</th>\n",
              "      <td>0.353474</td>\n",
              "      <td>0.454545</td>\n",
              "      <td>1.0</td>\n",
              "      <td>5</td>\n",
              "    </tr>\n",
              "    <tr>\n",
              "      <th>336</th>\n",
              "      <td>0.362537</td>\n",
              "      <td>0.727273</td>\n",
              "      <td>1.0</td>\n",
              "      <td>5</td>\n",
              "    </tr>\n",
              "    <tr>\n",
              "      <th>337</th>\n",
              "      <td>0.314199</td>\n",
              "      <td>1.000000</td>\n",
              "      <td>1.0</td>\n",
              "      <td>5</td>\n",
              "    </tr>\n",
              "  </tbody>\n",
              "</table>\n",
              "<p>338 rows × 4 columns</p>\n",
              "</div>\n",
              "    <div class=\"colab-df-buttons\">\n",
              "\n",
              "  <div class=\"colab-df-container\">\n",
              "    <button class=\"colab-df-convert\" onclick=\"convertToInteractive('df-d401b341-8448-46d9-bf7a-879edf21e93d')\"\n",
              "            title=\"Convert this dataframe to an interactive table.\"\n",
              "            style=\"display:none;\">\n",
              "\n",
              "  <svg xmlns=\"http://www.w3.org/2000/svg\" height=\"24px\" viewBox=\"0 -960 960 960\">\n",
              "    <path d=\"M120-120v-720h720v720H120Zm60-500h600v-160H180v160Zm220 220h160v-160H400v160Zm0 220h160v-160H400v160ZM180-400h160v-160H180v160Zm440 0h160v-160H620v160ZM180-180h160v-160H180v160Zm440 0h160v-160H620v160Z\"/>\n",
              "  </svg>\n",
              "    </button>\n",
              "\n",
              "  <style>\n",
              "    .colab-df-container {\n",
              "      display:flex;\n",
              "      gap: 12px;\n",
              "    }\n",
              "\n",
              "    .colab-df-convert {\n",
              "      background-color: #E8F0FE;\n",
              "      border: none;\n",
              "      border-radius: 50%;\n",
              "      cursor: pointer;\n",
              "      display: none;\n",
              "      fill: #1967D2;\n",
              "      height: 32px;\n",
              "      padding: 0 0 0 0;\n",
              "      width: 32px;\n",
              "    }\n",
              "\n",
              "    .colab-df-convert:hover {\n",
              "      background-color: #E2EBFA;\n",
              "      box-shadow: 0px 1px 2px rgba(60, 64, 67, 0.3), 0px 1px 3px 1px rgba(60, 64, 67, 0.15);\n",
              "      fill: #174EA6;\n",
              "    }\n",
              "\n",
              "    .colab-df-buttons div {\n",
              "      margin-bottom: 4px;\n",
              "    }\n",
              "\n",
              "    [theme=dark] .colab-df-convert {\n",
              "      background-color: #3B4455;\n",
              "      fill: #D2E3FC;\n",
              "    }\n",
              "\n",
              "    [theme=dark] .colab-df-convert:hover {\n",
              "      background-color: #434B5C;\n",
              "      box-shadow: 0px 1px 3px 1px rgba(0, 0, 0, 0.15);\n",
              "      filter: drop-shadow(0px 1px 2px rgba(0, 0, 0, 0.3));\n",
              "      fill: #FFFFFF;\n",
              "    }\n",
              "  </style>\n",
              "\n",
              "    <script>\n",
              "      const buttonEl =\n",
              "        document.querySelector('#df-d401b341-8448-46d9-bf7a-879edf21e93d button.colab-df-convert');\n",
              "      buttonEl.style.display =\n",
              "        google.colab.kernel.accessAllowed ? 'block' : 'none';\n",
              "\n",
              "      async function convertToInteractive(key) {\n",
              "        const element = document.querySelector('#df-d401b341-8448-46d9-bf7a-879edf21e93d');\n",
              "        const dataTable =\n",
              "          await google.colab.kernel.invokeFunction('convertToInteractive',\n",
              "                                                    [key], {});\n",
              "        if (!dataTable) return;\n",
              "\n",
              "        const docLinkHtml = 'Like what you see? Visit the ' +\n",
              "          '<a target=\"_blank\" href=https://colab.research.google.com/notebooks/data_table.ipynb>data table notebook</a>'\n",
              "          + ' to learn more about interactive tables.';\n",
              "        element.innerHTML = '';\n",
              "        dataTable['output_type'] = 'display_data';\n",
              "        await google.colab.output.renderOutput(dataTable, element);\n",
              "        const docLink = document.createElement('div');\n",
              "        docLink.innerHTML = docLinkHtml;\n",
              "        element.appendChild(docLink);\n",
              "      }\n",
              "    </script>\n",
              "  </div>\n",
              "\n",
              "\n",
              "<div id=\"df-880f2e16-cbf3-4f59-9afe-472f34b9642a\">\n",
              "  <button class=\"colab-df-quickchart\" onclick=\"quickchart('df-880f2e16-cbf3-4f59-9afe-472f34b9642a')\"\n",
              "            title=\"Suggest charts\"\n",
              "            style=\"display:none;\">\n",
              "\n",
              "<svg xmlns=\"http://www.w3.org/2000/svg\" height=\"24px\"viewBox=\"0 0 24 24\"\n",
              "     width=\"24px\">\n",
              "    <g>\n",
              "        <path d=\"M19 3H5c-1.1 0-2 .9-2 2v14c0 1.1.9 2 2 2h14c1.1 0 2-.9 2-2V5c0-1.1-.9-2-2-2zM9 17H7v-7h2v7zm4 0h-2V7h2v10zm4 0h-2v-4h2v4z\"/>\n",
              "    </g>\n",
              "</svg>\n",
              "  </button>\n",
              "\n",
              "<style>\n",
              "  .colab-df-quickchart {\n",
              "      --bg-color: #E8F0FE;\n",
              "      --fill-color: #1967D2;\n",
              "      --hover-bg-color: #E2EBFA;\n",
              "      --hover-fill-color: #174EA6;\n",
              "      --disabled-fill-color: #AAA;\n",
              "      --disabled-bg-color: #DDD;\n",
              "  }\n",
              "\n",
              "  [theme=dark] .colab-df-quickchart {\n",
              "      --bg-color: #3B4455;\n",
              "      --fill-color: #D2E3FC;\n",
              "      --hover-bg-color: #434B5C;\n",
              "      --hover-fill-color: #FFFFFF;\n",
              "      --disabled-bg-color: #3B4455;\n",
              "      --disabled-fill-color: #666;\n",
              "  }\n",
              "\n",
              "  .colab-df-quickchart {\n",
              "    background-color: var(--bg-color);\n",
              "    border: none;\n",
              "    border-radius: 50%;\n",
              "    cursor: pointer;\n",
              "    display: none;\n",
              "    fill: var(--fill-color);\n",
              "    height: 32px;\n",
              "    padding: 0;\n",
              "    width: 32px;\n",
              "  }\n",
              "\n",
              "  .colab-df-quickchart:hover {\n",
              "    background-color: var(--hover-bg-color);\n",
              "    box-shadow: 0 1px 2px rgba(60, 64, 67, 0.3), 0 1px 3px 1px rgba(60, 64, 67, 0.15);\n",
              "    fill: var(--button-hover-fill-color);\n",
              "  }\n",
              "\n",
              "  .colab-df-quickchart-complete:disabled,\n",
              "  .colab-df-quickchart-complete:disabled:hover {\n",
              "    background-color: var(--disabled-bg-color);\n",
              "    fill: var(--disabled-fill-color);\n",
              "    box-shadow: none;\n",
              "  }\n",
              "\n",
              "  .colab-df-spinner {\n",
              "    border: 2px solid var(--fill-color);\n",
              "    border-color: transparent;\n",
              "    border-bottom-color: var(--fill-color);\n",
              "    animation:\n",
              "      spin 1s steps(1) infinite;\n",
              "  }\n",
              "\n",
              "  @keyframes spin {\n",
              "    0% {\n",
              "      border-color: transparent;\n",
              "      border-bottom-color: var(--fill-color);\n",
              "      border-left-color: var(--fill-color);\n",
              "    }\n",
              "    20% {\n",
              "      border-color: transparent;\n",
              "      border-left-color: var(--fill-color);\n",
              "      border-top-color: var(--fill-color);\n",
              "    }\n",
              "    30% {\n",
              "      border-color: transparent;\n",
              "      border-left-color: var(--fill-color);\n",
              "      border-top-color: var(--fill-color);\n",
              "      border-right-color: var(--fill-color);\n",
              "    }\n",
              "    40% {\n",
              "      border-color: transparent;\n",
              "      border-right-color: var(--fill-color);\n",
              "      border-top-color: var(--fill-color);\n",
              "    }\n",
              "    60% {\n",
              "      border-color: transparent;\n",
              "      border-right-color: var(--fill-color);\n",
              "    }\n",
              "    80% {\n",
              "      border-color: transparent;\n",
              "      border-right-color: var(--fill-color);\n",
              "      border-bottom-color: var(--fill-color);\n",
              "    }\n",
              "    90% {\n",
              "      border-color: transparent;\n",
              "      border-bottom-color: var(--fill-color);\n",
              "    }\n",
              "  }\n",
              "</style>\n",
              "\n",
              "  <script>\n",
              "    async function quickchart(key) {\n",
              "      const quickchartButtonEl =\n",
              "        document.querySelector('#' + key + ' button');\n",
              "      quickchartButtonEl.disabled = true;  // To prevent multiple clicks.\n",
              "      quickchartButtonEl.classList.add('colab-df-spinner');\n",
              "      try {\n",
              "        const charts = await google.colab.kernel.invokeFunction(\n",
              "            'suggestCharts', [key], {});\n",
              "      } catch (error) {\n",
              "        console.error('Error during call to suggestCharts:', error);\n",
              "      }\n",
              "      quickchartButtonEl.classList.remove('colab-df-spinner');\n",
              "      quickchartButtonEl.classList.add('colab-df-quickchart-complete');\n",
              "    }\n",
              "    (() => {\n",
              "      let quickchartButtonEl =\n",
              "        document.querySelector('#df-880f2e16-cbf3-4f59-9afe-472f34b9642a button');\n",
              "      quickchartButtonEl.style.display =\n",
              "        google.colab.kernel.accessAllowed ? 'block' : 'none';\n",
              "    })();\n",
              "  </script>\n",
              "</div>\n",
              "\n",
              "  <div id=\"id_fc2e18b9-5d5a-4871-96dd-9daa9c63a7f3\">\n",
              "    <style>\n",
              "      .colab-df-generate {\n",
              "        background-color: #E8F0FE;\n",
              "        border: none;\n",
              "        border-radius: 50%;\n",
              "        cursor: pointer;\n",
              "        display: none;\n",
              "        fill: #1967D2;\n",
              "        height: 32px;\n",
              "        padding: 0 0 0 0;\n",
              "        width: 32px;\n",
              "      }\n",
              "\n",
              "      .colab-df-generate:hover {\n",
              "        background-color: #E2EBFA;\n",
              "        box-shadow: 0px 1px 2px rgba(60, 64, 67, 0.3), 0px 1px 3px 1px rgba(60, 64, 67, 0.15);\n",
              "        fill: #174EA6;\n",
              "      }\n",
              "\n",
              "      [theme=dark] .colab-df-generate {\n",
              "        background-color: #3B4455;\n",
              "        fill: #D2E3FC;\n",
              "      }\n",
              "\n",
              "      [theme=dark] .colab-df-generate:hover {\n",
              "        background-color: #434B5C;\n",
              "        box-shadow: 0px 1px 3px 1px rgba(0, 0, 0, 0.15);\n",
              "        filter: drop-shadow(0px 1px 2px rgba(0, 0, 0, 0.3));\n",
              "        fill: #FFFFFF;\n",
              "      }\n",
              "    </style>\n",
              "    <button class=\"colab-df-generate\" onclick=\"generateWithVariable('df')\"\n",
              "            title=\"Generate code using this dataframe.\"\n",
              "            style=\"display:none;\">\n",
              "\n",
              "  <svg xmlns=\"http://www.w3.org/2000/svg\" height=\"24px\"viewBox=\"0 0 24 24\"\n",
              "       width=\"24px\">\n",
              "    <path d=\"M7,19H8.4L18.45,9,17,7.55,7,17.6ZM5,21V16.75L18.45,3.32a2,2,0,0,1,2.83,0l1.4,1.43a1.91,1.91,0,0,1,.58,1.4,1.91,1.91,0,0,1-.58,1.4L9.25,21ZM18.45,9,17,7.55Zm-12,3A5.31,5.31,0,0,0,4.9,8.1,5.31,5.31,0,0,0,1,6.5,5.31,5.31,0,0,0,4.9,4.9,5.31,5.31,0,0,0,6.5,1,5.31,5.31,0,0,0,8.1,4.9,5.31,5.31,0,0,0,12,6.5,5.46,5.46,0,0,0,6.5,12Z\"/>\n",
              "  </svg>\n",
              "    </button>\n",
              "    <script>\n",
              "      (() => {\n",
              "      const buttonEl =\n",
              "        document.querySelector('#id_fc2e18b9-5d5a-4871-96dd-9daa9c63a7f3 button.colab-df-generate');\n",
              "      buttonEl.style.display =\n",
              "        google.colab.kernel.accessAllowed ? 'block' : 'none';\n",
              "\n",
              "      buttonEl.onclick = () => {\n",
              "        google.colab.notebook.generateWithVariable('df');\n",
              "      }\n",
              "      })();\n",
              "    </script>\n",
              "  </div>\n",
              "\n",
              "    </div>\n",
              "  </div>\n"
            ],
            "application/vnd.google.colaboratory.intrinsic+json": {
              "type": "dataframe",
              "variable_name": "df",
              "summary": "{\n  \"name\": \"df\",\n  \"rows\": 338,\n  \"fields\": [\n    {\n      \"column\": \"v\",\n      \"properties\": {\n        \"dtype\": \"number\",\n        \"std\": 0.1958190262042624,\n        \"min\": 0.197733879,\n        \"max\": 0.999998728,\n        \"num_unique_values\": 196,\n        \"samples\": [\n          0.383685358,\n          0.24220528,\n          0.274924175\n        ],\n        \"semantic_type\": \"\",\n        \"description\": \"\"\n      }\n    },\n    {\n      \"column\": \"h\",\n      \"properties\": {\n        \"dtype\": \"number\",\n        \"std\": 0.3060433913772604,\n        \"min\": 0.0,\n        \"max\": 1.0,\n        \"num_unique_values\": 12,\n        \"samples\": [\n          0.363636364,\n          0.090909091,\n          0.0\n        ],\n        \"semantic_type\": \"\",\n        \"description\": \"\"\n      }\n    },\n    {\n      \"column\": \"s\",\n      \"properties\": {\n        \"dtype\": \"number\",\n        \"std\": 0.34424363243453365,\n        \"min\": 0.0,\n        \"max\": 1.0,\n        \"num_unique_values\": 6,\n        \"samples\": [\n          0.0,\n          0.6,\n          1.0\n        ],\n        \"semantic_type\": \"\",\n        \"description\": \"\"\n      }\n    },\n    {\n      \"column\": \"m\",\n      \"properties\": {\n        \"dtype\": \"number\",\n        \"std\": 1,\n        \"min\": 1,\n        \"max\": 5,\n        \"num_unique_values\": 5,\n        \"samples\": [\n          2,\n          5,\n          3\n        ],\n        \"semantic_type\": \"\",\n        \"description\": \"\"\n      }\n    }\n  ]\n}"
            }
          },
          "metadata": {},
          "execution_count": 5
        }
      ]
    },
    {
      "cell_type": "code",
      "source": [
        "df1 = pd.DataFrame(df)"
      ],
      "metadata": {
        "id": "T0DcRHDZYP5x"
      },
      "execution_count": null,
      "outputs": []
    },
    {
      "cell_type": "code",
      "source": [
        "df1.isnull().sum().sum()"
      ],
      "metadata": {
        "colab": {
          "base_uri": "https://localhost:8080/"
        },
        "id": "M9VRR8oN0aS6",
        "outputId": "ba89e483-407d-468f-80b5-ab608bc41ef6"
      },
      "execution_count": null,
      "outputs": [
        {
          "output_type": "execute_result",
          "data": {
            "text/plain": [
              "0"
            ]
          },
          "metadata": {},
          "execution_count": 7
        }
      ]
    },
    {
      "cell_type": "code",
      "source": [
        "df1.describe()"
      ],
      "metadata": {
        "colab": {
          "base_uri": "https://localhost:8080/",
          "height": 300
        },
        "id": "LEunDcV2zi51",
        "outputId": "1b9a5257-802c-4ece-fc8a-23a508fec0ff"
      },
      "execution_count": null,
      "outputs": [
        {
          "output_type": "execute_result",
          "data": {
            "text/plain": [
              "                v           h           s           m\n",
              "count  338.000000  338.000000  338.000000  338.000000\n",
              "mean     0.430634    0.508876    0.503550    2.952663\n",
              "std      0.195819    0.306043    0.344244    1.419703\n",
              "min      0.197734    0.000000    0.000000    1.000000\n",
              "25%      0.309737    0.272727    0.200000    2.000000\n",
              "50%      0.359516    0.545455    0.600000    3.000000\n",
              "75%      0.482628    0.727273    0.800000    4.000000\n",
              "max      0.999999    1.000000    1.000000    5.000000"
            ],
            "text/html": [
              "\n",
              "  <div id=\"df-5e0ad0e1-9cc1-40e3-97cd-3f449840add4\" class=\"colab-df-container\">\n",
              "    <div>\n",
              "<style scoped>\n",
              "    .dataframe tbody tr th:only-of-type {\n",
              "        vertical-align: middle;\n",
              "    }\n",
              "\n",
              "    .dataframe tbody tr th {\n",
              "        vertical-align: top;\n",
              "    }\n",
              "\n",
              "    .dataframe thead th {\n",
              "        text-align: right;\n",
              "    }\n",
              "</style>\n",
              "<table border=\"1\" class=\"dataframe\">\n",
              "  <thead>\n",
              "    <tr style=\"text-align: right;\">\n",
              "      <th></th>\n",
              "      <th>v</th>\n",
              "      <th>h</th>\n",
              "      <th>s</th>\n",
              "      <th>m</th>\n",
              "    </tr>\n",
              "  </thead>\n",
              "  <tbody>\n",
              "    <tr>\n",
              "      <th>count</th>\n",
              "      <td>338.000000</td>\n",
              "      <td>338.000000</td>\n",
              "      <td>338.000000</td>\n",
              "      <td>338.000000</td>\n",
              "    </tr>\n",
              "    <tr>\n",
              "      <th>mean</th>\n",
              "      <td>0.430634</td>\n",
              "      <td>0.508876</td>\n",
              "      <td>0.503550</td>\n",
              "      <td>2.952663</td>\n",
              "    </tr>\n",
              "    <tr>\n",
              "      <th>std</th>\n",
              "      <td>0.195819</td>\n",
              "      <td>0.306043</td>\n",
              "      <td>0.344244</td>\n",
              "      <td>1.419703</td>\n",
              "    </tr>\n",
              "    <tr>\n",
              "      <th>min</th>\n",
              "      <td>0.197734</td>\n",
              "      <td>0.000000</td>\n",
              "      <td>0.000000</td>\n",
              "      <td>1.000000</td>\n",
              "    </tr>\n",
              "    <tr>\n",
              "      <th>25%</th>\n",
              "      <td>0.309737</td>\n",
              "      <td>0.272727</td>\n",
              "      <td>0.200000</td>\n",
              "      <td>2.000000</td>\n",
              "    </tr>\n",
              "    <tr>\n",
              "      <th>50%</th>\n",
              "      <td>0.359516</td>\n",
              "      <td>0.545455</td>\n",
              "      <td>0.600000</td>\n",
              "      <td>3.000000</td>\n",
              "    </tr>\n",
              "    <tr>\n",
              "      <th>75%</th>\n",
              "      <td>0.482628</td>\n",
              "      <td>0.727273</td>\n",
              "      <td>0.800000</td>\n",
              "      <td>4.000000</td>\n",
              "    </tr>\n",
              "    <tr>\n",
              "      <th>max</th>\n",
              "      <td>0.999999</td>\n",
              "      <td>1.000000</td>\n",
              "      <td>1.000000</td>\n",
              "      <td>5.000000</td>\n",
              "    </tr>\n",
              "  </tbody>\n",
              "</table>\n",
              "</div>\n",
              "    <div class=\"colab-df-buttons\">\n",
              "\n",
              "  <div class=\"colab-df-container\">\n",
              "    <button class=\"colab-df-convert\" onclick=\"convertToInteractive('df-5e0ad0e1-9cc1-40e3-97cd-3f449840add4')\"\n",
              "            title=\"Convert this dataframe to an interactive table.\"\n",
              "            style=\"display:none;\">\n",
              "\n",
              "  <svg xmlns=\"http://www.w3.org/2000/svg\" height=\"24px\" viewBox=\"0 -960 960 960\">\n",
              "    <path d=\"M120-120v-720h720v720H120Zm60-500h600v-160H180v160Zm220 220h160v-160H400v160Zm0 220h160v-160H400v160ZM180-400h160v-160H180v160Zm440 0h160v-160H620v160ZM180-180h160v-160H180v160Zm440 0h160v-160H620v160Z\"/>\n",
              "  </svg>\n",
              "    </button>\n",
              "\n",
              "  <style>\n",
              "    .colab-df-container {\n",
              "      display:flex;\n",
              "      gap: 12px;\n",
              "    }\n",
              "\n",
              "    .colab-df-convert {\n",
              "      background-color: #E8F0FE;\n",
              "      border: none;\n",
              "      border-radius: 50%;\n",
              "      cursor: pointer;\n",
              "      display: none;\n",
              "      fill: #1967D2;\n",
              "      height: 32px;\n",
              "      padding: 0 0 0 0;\n",
              "      width: 32px;\n",
              "    }\n",
              "\n",
              "    .colab-df-convert:hover {\n",
              "      background-color: #E2EBFA;\n",
              "      box-shadow: 0px 1px 2px rgba(60, 64, 67, 0.3), 0px 1px 3px 1px rgba(60, 64, 67, 0.15);\n",
              "      fill: #174EA6;\n",
              "    }\n",
              "\n",
              "    .colab-df-buttons div {\n",
              "      margin-bottom: 4px;\n",
              "    }\n",
              "\n",
              "    [theme=dark] .colab-df-convert {\n",
              "      background-color: #3B4455;\n",
              "      fill: #D2E3FC;\n",
              "    }\n",
              "\n",
              "    [theme=dark] .colab-df-convert:hover {\n",
              "      background-color: #434B5C;\n",
              "      box-shadow: 0px 1px 3px 1px rgba(0, 0, 0, 0.15);\n",
              "      filter: drop-shadow(0px 1px 2px rgba(0, 0, 0, 0.3));\n",
              "      fill: #FFFFFF;\n",
              "    }\n",
              "  </style>\n",
              "\n",
              "    <script>\n",
              "      const buttonEl =\n",
              "        document.querySelector('#df-5e0ad0e1-9cc1-40e3-97cd-3f449840add4 button.colab-df-convert');\n",
              "      buttonEl.style.display =\n",
              "        google.colab.kernel.accessAllowed ? 'block' : 'none';\n",
              "\n",
              "      async function convertToInteractive(key) {\n",
              "        const element = document.querySelector('#df-5e0ad0e1-9cc1-40e3-97cd-3f449840add4');\n",
              "        const dataTable =\n",
              "          await google.colab.kernel.invokeFunction('convertToInteractive',\n",
              "                                                    [key], {});\n",
              "        if (!dataTable) return;\n",
              "\n",
              "        const docLinkHtml = 'Like what you see? Visit the ' +\n",
              "          '<a target=\"_blank\" href=https://colab.research.google.com/notebooks/data_table.ipynb>data table notebook</a>'\n",
              "          + ' to learn more about interactive tables.';\n",
              "        element.innerHTML = '';\n",
              "        dataTable['output_type'] = 'display_data';\n",
              "        await google.colab.output.renderOutput(dataTable, element);\n",
              "        const docLink = document.createElement('div');\n",
              "        docLink.innerHTML = docLinkHtml;\n",
              "        element.appendChild(docLink);\n",
              "      }\n",
              "    </script>\n",
              "  </div>\n",
              "\n",
              "\n",
              "<div id=\"df-4a8c826b-def7-4d4a-a46b-59ac1612ced1\">\n",
              "  <button class=\"colab-df-quickchart\" onclick=\"quickchart('df-4a8c826b-def7-4d4a-a46b-59ac1612ced1')\"\n",
              "            title=\"Suggest charts\"\n",
              "            style=\"display:none;\">\n",
              "\n",
              "<svg xmlns=\"http://www.w3.org/2000/svg\" height=\"24px\"viewBox=\"0 0 24 24\"\n",
              "     width=\"24px\">\n",
              "    <g>\n",
              "        <path d=\"M19 3H5c-1.1 0-2 .9-2 2v14c0 1.1.9 2 2 2h14c1.1 0 2-.9 2-2V5c0-1.1-.9-2-2-2zM9 17H7v-7h2v7zm4 0h-2V7h2v10zm4 0h-2v-4h2v4z\"/>\n",
              "    </g>\n",
              "</svg>\n",
              "  </button>\n",
              "\n",
              "<style>\n",
              "  .colab-df-quickchart {\n",
              "      --bg-color: #E8F0FE;\n",
              "      --fill-color: #1967D2;\n",
              "      --hover-bg-color: #E2EBFA;\n",
              "      --hover-fill-color: #174EA6;\n",
              "      --disabled-fill-color: #AAA;\n",
              "      --disabled-bg-color: #DDD;\n",
              "  }\n",
              "\n",
              "  [theme=dark] .colab-df-quickchart {\n",
              "      --bg-color: #3B4455;\n",
              "      --fill-color: #D2E3FC;\n",
              "      --hover-bg-color: #434B5C;\n",
              "      --hover-fill-color: #FFFFFF;\n",
              "      --disabled-bg-color: #3B4455;\n",
              "      --disabled-fill-color: #666;\n",
              "  }\n",
              "\n",
              "  .colab-df-quickchart {\n",
              "    background-color: var(--bg-color);\n",
              "    border: none;\n",
              "    border-radius: 50%;\n",
              "    cursor: pointer;\n",
              "    display: none;\n",
              "    fill: var(--fill-color);\n",
              "    height: 32px;\n",
              "    padding: 0;\n",
              "    width: 32px;\n",
              "  }\n",
              "\n",
              "  .colab-df-quickchart:hover {\n",
              "    background-color: var(--hover-bg-color);\n",
              "    box-shadow: 0 1px 2px rgba(60, 64, 67, 0.3), 0 1px 3px 1px rgba(60, 64, 67, 0.15);\n",
              "    fill: var(--button-hover-fill-color);\n",
              "  }\n",
              "\n",
              "  .colab-df-quickchart-complete:disabled,\n",
              "  .colab-df-quickchart-complete:disabled:hover {\n",
              "    background-color: var(--disabled-bg-color);\n",
              "    fill: var(--disabled-fill-color);\n",
              "    box-shadow: none;\n",
              "  }\n",
              "\n",
              "  .colab-df-spinner {\n",
              "    border: 2px solid var(--fill-color);\n",
              "    border-color: transparent;\n",
              "    border-bottom-color: var(--fill-color);\n",
              "    animation:\n",
              "      spin 1s steps(1) infinite;\n",
              "  }\n",
              "\n",
              "  @keyframes spin {\n",
              "    0% {\n",
              "      border-color: transparent;\n",
              "      border-bottom-color: var(--fill-color);\n",
              "      border-left-color: var(--fill-color);\n",
              "    }\n",
              "    20% {\n",
              "      border-color: transparent;\n",
              "      border-left-color: var(--fill-color);\n",
              "      border-top-color: var(--fill-color);\n",
              "    }\n",
              "    30% {\n",
              "      border-color: transparent;\n",
              "      border-left-color: var(--fill-color);\n",
              "      border-top-color: var(--fill-color);\n",
              "      border-right-color: var(--fill-color);\n",
              "    }\n",
              "    40% {\n",
              "      border-color: transparent;\n",
              "      border-right-color: var(--fill-color);\n",
              "      border-top-color: var(--fill-color);\n",
              "    }\n",
              "    60% {\n",
              "      border-color: transparent;\n",
              "      border-right-color: var(--fill-color);\n",
              "    }\n",
              "    80% {\n",
              "      border-color: transparent;\n",
              "      border-right-color: var(--fill-color);\n",
              "      border-bottom-color: var(--fill-color);\n",
              "    }\n",
              "    90% {\n",
              "      border-color: transparent;\n",
              "      border-bottom-color: var(--fill-color);\n",
              "    }\n",
              "  }\n",
              "</style>\n",
              "\n",
              "  <script>\n",
              "    async function quickchart(key) {\n",
              "      const quickchartButtonEl =\n",
              "        document.querySelector('#' + key + ' button');\n",
              "      quickchartButtonEl.disabled = true;  // To prevent multiple clicks.\n",
              "      quickchartButtonEl.classList.add('colab-df-spinner');\n",
              "      try {\n",
              "        const charts = await google.colab.kernel.invokeFunction(\n",
              "            'suggestCharts', [key], {});\n",
              "      } catch (error) {\n",
              "        console.error('Error during call to suggestCharts:', error);\n",
              "      }\n",
              "      quickchartButtonEl.classList.remove('colab-df-spinner');\n",
              "      quickchartButtonEl.classList.add('colab-df-quickchart-complete');\n",
              "    }\n",
              "    (() => {\n",
              "      let quickchartButtonEl =\n",
              "        document.querySelector('#df-4a8c826b-def7-4d4a-a46b-59ac1612ced1 button');\n",
              "      quickchartButtonEl.style.display =\n",
              "        google.colab.kernel.accessAllowed ? 'block' : 'none';\n",
              "    })();\n",
              "  </script>\n",
              "</div>\n",
              "\n",
              "    </div>\n",
              "  </div>\n"
            ],
            "application/vnd.google.colaboratory.intrinsic+json": {
              "type": "dataframe",
              "summary": "{\n  \"name\": \"df1\",\n  \"rows\": 8,\n  \"fields\": [\n    {\n      \"column\": \"v\",\n      \"properties\": {\n        \"dtype\": \"number\",\n        \"std\": 119.35100468877734,\n        \"min\": 0.1958190262042624,\n        \"max\": 338.0,\n        \"num_unique_values\": 8,\n        \"samples\": [\n          0.4306342659733727,\n          0.359516206,\n          338.0\n        ],\n        \"semantic_type\": \"\",\n        \"description\": \"\"\n      }\n    },\n    {\n      \"column\": \"h\",\n      \"properties\": {\n        \"dtype\": \"number\",\n        \"std\": 119.33170477645938,\n        \"min\": 0.0,\n        \"max\": 338.0,\n        \"num_unique_values\": 8,\n        \"samples\": [\n          0.5088757396420118,\n          0.545454545,\n          338.0\n        ],\n        \"semantic_type\": \"\",\n        \"description\": \"\"\n      }\n    },\n    {\n      \"column\": \"s\",\n      \"properties\": {\n        \"dtype\": \"number\",\n        \"std\": 119.32733345673675,\n        \"min\": 0.0,\n        \"max\": 338.0,\n        \"num_unique_values\": 8,\n        \"samples\": [\n          0.5035502958579882,\n          0.6,\n          338.0\n        ],\n        \"semantic_type\": \"\",\n        \"description\": \"\"\n      }\n    },\n    {\n      \"column\": \"m\",\n      \"properties\": {\n        \"dtype\": \"number\",\n        \"std\": 118.52989845763834,\n        \"min\": 1.0,\n        \"max\": 338.0,\n        \"num_unique_values\": 8,\n        \"samples\": [\n          2.9526627218934913,\n          3.0,\n          338.0\n        ],\n        \"semantic_type\": \"\",\n        \"description\": \"\"\n      }\n    }\n  ]\n}"
            }
          },
          "metadata": {},
          "execution_count": 8
        }
      ]
    },
    {
      "cell_type": "code",
      "source": [
        "cols=['v', 'h','s','m']\n",
        "from sklearn.preprocessing import LabelEncoder\n",
        "le=LabelEncoder()\n",
        "for i in cols:\n",
        "  df1[i]=le.fit_transform(df1[i])\n",
        "print(df1.head())"
      ],
      "metadata": {
        "colab": {
          "base_uri": "https://localhost:8080/"
        },
        "id": "56-lL1oqZcby",
        "outputId": "357f55f9-c3bb-4203-9312-fc82d17b13c4"
      },
      "execution_count": null,
      "outputs": [
        {
          "output_type": "stream",
          "name": "stdout",
          "text": [
            "    v  h  s  m\n",
            "0  78  0  0  0\n",
            "1  67  2  0  0\n",
            "2  41  3  0  0\n",
            "3  20  5  0  0\n",
            "4  25  6  0  0\n"
          ]
        }
      ]
    },
    {
      "cell_type": "code",
      "source": [
        "from sklearn.preprocessing import StandardScaler\n",
        "from sklearn.impute import SimpleImputer\n",
        "\n",
        "si = SimpleImputer(strategy='mean')\n",
        "df1 = pd.DataFrame(si.fit_transform(df1), columns=df1.columns)\n",
        "sc = StandardScaler()\n",
        "df1 = pd.DataFrame(sc.fit_transform(df1), columns=df1.columns)"
      ],
      "metadata": {
        "id": "mcvp-dlUtXKF"
      },
      "execution_count": null,
      "outputs": []
    },
    {
      "cell_type": "code",
      "source": [
        "target=df1['m']\n",
        "input=df1.drop(columns=['m'])\n",
        "print(input.shape)\n",
        "print(target.shape)"
      ],
      "metadata": {
        "colab": {
          "base_uri": "https://localhost:8080/"
        },
        "id": "SGtfsPq_E43f",
        "outputId": "37ac8e7a-7f44-4a5c-e9cd-7dcf18551d67"
      },
      "execution_count": null,
      "outputs": [
        {
          "output_type": "stream",
          "name": "stdout",
          "text": [
            "(338, 3)\n",
            "(338,)\n"
          ]
        }
      ]
    },
    {
      "cell_type": "code",
      "source": [
        "from sklearn.model_selection import train_test_split\n",
        "x_train, x_test, y_train,y_test=train_test_split(input, target,test_size=0.25)\n",
        "print(x_train.shape)\n",
        "print(x_test.shape)"
      ],
      "metadata": {
        "colab": {
          "base_uri": "https://localhost:8080/"
        },
        "id": "oFq0wpU2GcN3",
        "outputId": "3064efa8-3d0b-4bc7-fc56-8b2e707746ac"
      },
      "execution_count": null,
      "outputs": [
        {
          "output_type": "stream",
          "name": "stdout",
          "text": [
            "(253, 3)\n",
            "(85, 3)\n"
          ]
        }
      ]
    },
    {
      "cell_type": "code",
      "source": [
        "from sklearn.preprocessing import StandardScaler\n",
        "sc=StandardScaler()\n",
        "xtrain_sc=sc.fit_transform(x_train)\n",
        "xtest_sc=sc.transform(x_test)"
      ],
      "metadata": {
        "id": "ZdGtDOrzGhrE"
      },
      "execution_count": null,
      "outputs": []
    },
    {
      "cell_type": "code",
      "source": [
        "y_train.unique()"
      ],
      "metadata": {
        "colab": {
          "base_uri": "https://localhost:8080/"
        },
        "id": "N9VhhhAoiNZu",
        "outputId": "36ec357a-260c-47cf-8507-a206b18b4dd0"
      },
      "execution_count": null,
      "outputs": [
        {
          "output_type": "execute_result",
          "data": {
            "text/plain": [
              "array([ 1.44422642, -0.67202443, -1.37744138,  0.03339252,  0.73880947])"
            ]
          },
          "metadata": {},
          "execution_count": 14
        }
      ]
    },
    {
      "cell_type": "code",
      "source": [
        "y_train= le.fit_transform(y_train)\n",
        "y_test = le.transform(y_test)"
      ],
      "metadata": {
        "id": "UdTKWMOou84y"
      },
      "execution_count": null,
      "outputs": []
    },
    {
      "cell_type": "markdown",
      "source": [
        "# PERCEPTRON"
      ],
      "metadata": {
        "id": "Nyc7V1vjGjOi"
      }
    },
    {
      "cell_type": "code",
      "source": [
        "# penalty = l1\n",
        "from sklearn.linear_model import Perceptron\n",
        "p=Perceptron(penalty='l1')\n",
        "p.fit(xtrain_sc, y_train)\n",
        "from sklearn.metrics import accuracy_score\n",
        "from sklearn.metrics import precision_score, recall_score, f1_score\n",
        "print(\"TRAINING\")\n",
        "train_pred=p.predict(xtrain_sc)\n",
        "print(\"Training Accuracy:\", accuracy_score(train_pred, y_train))\n",
        "print(\"Precision Accuracy:\", precision_score(y_train,train_pred,average='weighted',zero_division=0))\n",
        "print(\"Recall Score:\", recall_score(y_train, train_pred,average='weighted'))\n",
        "print(\"F1 Score:\", f1_score(y_train, train_pred,average='weighted'))\n",
        "print()\n",
        "print(\"TESTING\")\n",
        "test_pred=p.predict(xtest_sc)\n",
        "print(\"Testing Accuracy:\", accuracy_score(test_pred, y_test))\n",
        "print(\"Precision Accuracy:\", precision_score(y_test,test_pred,average='weighted',zero_division=0))\n",
        "print(\"Recall Score:\", recall_score(y_test, test_pred,average='weighted'))\n",
        "print(\"F1 Score:\", f1_score(y_test, test_pred,average='weighted'))\n"
      ],
      "metadata": {
        "colab": {
          "base_uri": "https://localhost:8080/"
        },
        "id": "YDDPMa9mGh_j",
        "outputId": "b5567ac8-709c-406e-fd1a-d1989cdfa2ff"
      },
      "execution_count": null,
      "outputs": [
        {
          "output_type": "stream",
          "name": "stdout",
          "text": [
            "TRAINING\n",
            "Training Accuracy: 0.33992094861660077\n",
            "Precision Accuracy: 0.3804621371971071\n",
            "Recall Score: 0.33992094861660077\n",
            "F1 Score: 0.29936288830706714\n",
            "\n",
            "TESTING\n",
            "Testing Accuracy: 0.35294117647058826\n",
            "Precision Accuracy: 0.2796095526266304\n",
            "Recall Score: 0.35294117647058826\n",
            "F1 Score: 0.30278648855267287\n"
          ]
        }
      ]
    },
    {
      "cell_type": "code",
      "source": [
        "# penalty = l2\n",
        "from sklearn.linear_model import Perceptron\n",
        "p=Perceptron()\n",
        "p.fit(xtrain_sc, y_train)\n",
        "from sklearn.metrics import accuracy_score\n",
        "from sklearn.metrics import precision_score, recall_score, f1_score\n",
        "print(\"TRAINING\")\n",
        "train_pred=p.predict(xtrain_sc)\n",
        "print(\"Training Accuracy:\", accuracy_score(train_pred, y_train))\n",
        "print(\"Precision Accuracy:\", precision_score(y_train,train_pred,average='weighted',zero_division=0))\n",
        "print(\"Recall Score:\", recall_score(y_train, train_pred,average='weighted'))\n",
        "print(\"F1 Score:\", f1_score(y_train, train_pred,average='weighted'))\n",
        "print()\n",
        "print(\"TESTING\")\n",
        "test_pred=p.predict(xtest_sc)\n",
        "print(\"Testing Accuracy:\", accuracy_score(test_pred, y_test))\n",
        "print(\"Precision Accuracy:\", precision_score(y_test,test_pred,average='weighted',zero_division=0))\n",
        "print(\"Recall Score:\", recall_score(y_test, test_pred,average='weighted'))\n",
        "print(\"F1 Score:\", f1_score(y_test, test_pred,average='weighted'))"
      ],
      "metadata": {
        "colab": {
          "base_uri": "https://localhost:8080/"
        },
        "id": "ToyBihtYGn7K",
        "outputId": "e6364a27-adb8-4088-c26a-67e1f7da8bfc"
      },
      "execution_count": null,
      "outputs": [
        {
          "output_type": "stream",
          "name": "stdout",
          "text": [
            "TRAINING\n",
            "Training Accuracy: 0.47035573122529645\n",
            "Precision Accuracy: 0.3773082717353922\n",
            "Recall Score: 0.47035573122529645\n",
            "F1 Score: 0.4181925788022829\n",
            "\n",
            "TESTING\n",
            "Testing Accuracy: 0.38823529411764707\n",
            "Precision Accuracy: 0.31244370954123274\n",
            "Recall Score: 0.38823529411764707\n",
            "F1 Score: 0.34084033613445375\n"
          ]
        }
      ]
    },
    {
      "cell_type": "code",
      "source": [
        "# penalty = elasticnet\n",
        "from sklearn.linear_model import Perceptron\n",
        "p.fit(xtrain_sc, y_train)\n",
        "from sklearn.metrics import accuracy_score\n",
        "from sklearn.metrics import precision_score, recall_score, f1_score\n",
        "print(\"TRAINING\")\n",
        "train_pred=p.predict(xtrain_sc)\n",
        "print(\"Training Accuracy:\", accuracy_score(train_pred, y_train))\n",
        "print(\"Precision Accuracy:\", precision_score(y_train,train_pred,average='weighted',zero_division=0))\n",
        "print(\"Recall Score:\", recall_score(y_train, train_pred,average='weighted'))\n",
        "print(\"F1 Score:\", f1_score(y_train, train_pred,average='weighted'))\n",
        "print()\n",
        "print(\"TESTING\")\n",
        "test_pred=p.predict(xtest_sc)\n",
        "print(\"Testing Accuracy:\", accuracy_score(test_pred, y_test))\n",
        "print(\"Precision Accuracy:\", precision_score(y_test,test_pred,average='weighted',zero_division=0))\n",
        "print(\"Recall Score:\", recall_score(y_test, test_pred,average='weighted'))\n",
        "print(\"F1 Score:\", f1_score(y_test, test_pred,average='weighted'))"
      ],
      "metadata": {
        "colab": {
          "base_uri": "https://localhost:8080/"
        },
        "id": "m4USQL3NdTyV",
        "outputId": "3d04f416-397a-4225-f1b9-f95fa1b60616"
      },
      "execution_count": null,
      "outputs": [
        {
          "output_type": "stream",
          "name": "stdout",
          "text": [
            "TRAINING\n",
            "Training Accuracy: 0.47035573122529645\n",
            "Precision Accuracy: 0.3773082717353922\n",
            "Recall Score: 0.47035573122529645\n",
            "F1 Score: 0.4181925788022829\n",
            "\n",
            "TESTING\n",
            "Testing Accuracy: 0.38823529411764707\n",
            "Precision Accuracy: 0.31244370954123274\n",
            "Recall Score: 0.38823529411764707\n",
            "F1 Score: 0.34084033613445375\n"
          ]
        }
      ]
    },
    {
      "cell_type": "code",
      "source": [
        "from sklearn.model_selection import GridSearchCV\n",
        "params = [{'penalty' : ['l1','l2','elasticnet']}]\n",
        "gs = GridSearchCV(estimator = Perceptron(),param_grid = params)\n",
        "gs.fit(xtrain_sc,y_train)\n",
        "print(\"Best score: \" , gs.best_score_)\n",
        "print(\"best parameter: \",gs.best_params_)"
      ],
      "metadata": {
        "colab": {
          "base_uri": "https://localhost:8080/"
        },
        "id": "c9JNgRhx12zi",
        "outputId": "cd6e2c0a-e065-4b31-ed1e-548952f212c0"
      },
      "execution_count": null,
      "outputs": [
        {
          "output_type": "stream",
          "name": "stdout",
          "text": [
            "Best score:  0.40729411764705886\n",
            "best parameter:  {'penalty': 'l1'}\n"
          ]
        }
      ]
    },
    {
      "cell_type": "markdown",
      "source": [
        "# LOGISTIC REGRESSION"
      ],
      "metadata": {
        "id": "f8oZrwVnk8Oa"
      }
    },
    {
      "cell_type": "code",
      "source": [
        "from sklearn.linear_model import LogisticRegression\n",
        "lr = LogisticRegression()\n",
        "lr.fit(xtrain_sc,y_train)\n",
        "lr_train_pred = lr.predict(xtrain_sc)\n",
        "lr_test_pred = lr.predict(xtest_sc)\n",
        "print(\"TRAINING\")\n",
        "print(\"Training accuracy : \", accuracy_score(lr_train_pred,y_train))\n",
        "print(\"Precision Accuracy:\", precision_score(y_train,lr_train_pred,average='weighted'))\n",
        "print(\"Recall Score:\", recall_score(y_train, lr_train_pred,average='weighted'))\n",
        "print(\"F1 Score:\", f1_score(y_train, lr_train_pred,average='weighted'))\n",
        "print()\n",
        "print(\"TESTING\")\n",
        "print(\"Testing accuracy : \",accuracy_score(lr_test_pred, y_test))\n",
        "print(\"Precision Accuracy:\", precision_score(y_test,lr_test_pred,average='weighted'))\n",
        "print(\"Recall Score:\", recall_score(y_test, lr_test_pred,average='weighted'))\n",
        "print(\"F1 Score:\", f1_score(y_test, lr_test_pred,average='weighted'))"
      ],
      "metadata": {
        "colab": {
          "base_uri": "https://localhost:8080/"
        },
        "id": "zlOiFp3GfSTn",
        "outputId": "9a060ebe-9943-484e-e309-bd0df14ecd72"
      },
      "execution_count": null,
      "outputs": [
        {
          "output_type": "stream",
          "name": "stdout",
          "text": [
            "TRAINING\n",
            "Training accuracy :  0.5612648221343873\n",
            "Precision Accuracy: 0.5218239862026371\n",
            "Recall Score: 0.5612648221343873\n",
            "F1 Score: 0.5284801226886858\n",
            "\n",
            "TESTING\n",
            "Testing accuracy :  0.4235294117647059\n",
            "Precision Accuracy: 0.38446455505279037\n",
            "Recall Score: 0.4235294117647059\n",
            "F1 Score: 0.38533343161826145\n"
          ]
        }
      ]
    },
    {
      "cell_type": "code",
      "source": [
        "params = {}\n",
        "gs = GridSearchCV(lr,params)\n",
        "gs.fit(xtrain_sc,y_train)\n",
        "print(\"Best score: \" , gs.best_score_)\n",
        "print(\"best parameter: \",gs.best_params_)"
      ],
      "metadata": {
        "colab": {
          "base_uri": "https://localhost:8080/"
        },
        "id": "A2-vjvpUvTnX",
        "outputId": "a5a94457-ddf8-40fe-f1f4-a526ed926ea1"
      },
      "execution_count": null,
      "outputs": [
        {
          "output_type": "stream",
          "name": "stdout",
          "text": [
            "Best score:  0.5493333333333333\n",
            "best parameter:  {}\n"
          ]
        }
      ]
    },
    {
      "cell_type": "markdown",
      "source": [
        "# SVM"
      ],
      "metadata": {
        "id": "B7ELZbqHn4MA"
      }
    },
    {
      "cell_type": "code",
      "source": [
        "from sklearn.svm import SVC # c = classifier\n",
        "svc = SVC()\n",
        "svc.fit(x_train,y_train)\n",
        "svc_train_pred = svc.predict(xtrain_sc)\n",
        "svc_test_pred = svc.predict(xtest_sc)\n",
        "print(\"TRAINING\")\n",
        "print(\"Training accuracy : \", accuracy_score(svc_train_pred,y_train))\n",
        "print(\"Precision Accuracy:\", precision_score(y_train,svc_train_pred,average='weighted'))\n",
        "print(\"Recall Score:\", recall_score(y_train,svc_train_pred,average='weighted'))\n",
        "print(\"F1 Score:\", f1_score(y_train,svc_train_pred,average='weighted'))\n",
        "print()\n",
        "print(\"TESTING\")\n",
        "print(\"Testing acucracy : \", accuracy_score(svc_test_pred,y_test))\n",
        "print(\"Precision Accuracy:\", precision_score(y_test,svc_test_pred,average='weighted'))\n",
        "print(\"Recall Score:\", recall_score(y_test, svc_test_pred,average='weighted'))\n",
        "print(\"F1 Score:\", f1_score(y_test, svc_test_pred,average='weighted'))"
      ],
      "metadata": {
        "colab": {
          "base_uri": "https://localhost:8080/"
        },
        "id": "iC3km6pUlWpX",
        "outputId": "8099542c-30e9-40c3-aad2-7011a5043c52"
      },
      "execution_count": null,
      "outputs": [
        {
          "output_type": "stream",
          "name": "stdout",
          "text": [
            "TRAINING\n",
            "Training accuracy :  0.7193675889328063\n",
            "Precision Accuracy: 0.7425228211810817\n",
            "Recall Score: 0.7193675889328063\n",
            "F1 Score: 0.7014808544474382\n",
            "\n",
            "TESTING\n",
            "Testing acucracy :  0.5294117647058824\n",
            "Precision Accuracy: 0.5452100840336134\n",
            "Recall Score: 0.5294117647058824\n",
            "F1 Score: 0.50731679232958\n"
          ]
        },
        {
          "output_type": "stream",
          "name": "stderr",
          "text": [
            "/usr/local/lib/python3.10/dist-packages/sklearn/base.py:439: UserWarning: X does not have valid feature names, but SVC was fitted with feature names\n",
            "  warnings.warn(\n",
            "/usr/local/lib/python3.10/dist-packages/sklearn/base.py:439: UserWarning: X does not have valid feature names, but SVC was fitted with feature names\n",
            "  warnings.warn(\n"
          ]
        }
      ]
    },
    {
      "cell_type": "code",
      "source": [
        "params = {'C': [0.1, 1, 10], 'gamma': [0.1, 0.01, 0.001], 'kernel': ['rbf', 'linear']}\n",
        "gs = GridSearchCV(estimator=svc, param_grid=params)\n",
        "gs.fit(xtrain_sc,y_train)\n",
        "print(\"Best score: \" , gs.best_score_)\n",
        "print(\"best parameter: \",gs.best_params_)"
      ],
      "metadata": {
        "colab": {
          "base_uri": "https://localhost:8080/"
        },
        "id": "bWJNexiBx4xD",
        "outputId": "179caa12-5c94-467f-ff04-4e490f9a2e5e"
      },
      "execution_count": null,
      "outputs": [
        {
          "output_type": "stream",
          "name": "stdout",
          "text": [
            "Best score:  0.6048627450980393\n",
            "best parameter:  {'C': 10, 'gamma': 0.1, 'kernel': 'rbf'}\n"
          ]
        }
      ]
    },
    {
      "cell_type": "markdown",
      "source": [
        "# KNN"
      ],
      "metadata": {
        "id": "K-f1anQDpBW9"
      }
    },
    {
      "cell_type": "code",
      "source": [
        "from sklearn.neighbors import KNeighborsClassifier\n",
        "knn = KNeighborsClassifier()\n",
        "knn.fit(xtrain_sc,y_train)\n",
        "knn_train_pred = knn.predict(xtrain_sc)\n",
        "knn_test_pred = knn.predict(xtest_sc)\n",
        "print(\"TRAINING\")\n",
        "print(\"training accuracy : \",accuracy_score(y_train, knn_train_pred))\n",
        "print(\"Precision Accuracy:\", precision_score(y_train,knn_train_pred,average='weighted'))\n",
        "print(\"Recall Score:\", recall_score(y_train,knn_train_pred,average='weighted'))\n",
        "print(\"F1 Score:\", f1_score(y_train,knn_train_pred,average='weighted'))\n",
        "print()\n",
        "print(\"TESTING\")\n",
        "print(\"testing accuracy : \", accuracy_score(y_test, knn_test_pred))\n",
        "print(\"Precision Accuracy:\", precision_score(y_test,knn_test_pred,average='weighted'))\n",
        "print(\"Recall Score:\", recall_score(y_test, knn_test_pred,average='weighted'))\n",
        "print(\"F1 Score:\", f1_score(y_test, knn_test_pred,average='weighted'))"
      ],
      "metadata": {
        "colab": {
          "base_uri": "https://localhost:8080/"
        },
        "id": "TIJRDEPLn8ou",
        "outputId": "6894f924-63ed-43bb-c2ff-6f668d4794dc"
      },
      "execution_count": null,
      "outputs": [
        {
          "output_type": "stream",
          "name": "stdout",
          "text": [
            "TRAINING\n",
            "training accuracy :  0.758893280632411\n",
            "Precision Accuracy: 0.7536251852079826\n",
            "Recall Score: 0.758893280632411\n",
            "F1 Score: 0.7483656552112512\n",
            "\n",
            "TESTING\n",
            "testing accuracy :  0.47058823529411764\n",
            "Precision Accuracy: 0.4323015726666843\n",
            "Recall Score: 0.47058823529411764\n",
            "F1 Score: 0.4241109615838521\n"
          ]
        }
      ]
    },
    {
      "cell_type": "code",
      "source": [
        "k_param=[{'n_neighbors':[1,2,3]}]\n",
        "gs=GridSearchCV(estimator=knn, param_grid=k_param)\n",
        "gs.fit(xtrain_sc, y_train)\n",
        "print(\"Best score: \" , gs.best_score_)\n",
        "print(\"Best parameter: \", gs.best_params_)"
      ],
      "metadata": {
        "colab": {
          "base_uri": "https://localhost:8080/"
        },
        "id": "lPmz9USo34rz",
        "outputId": "420d031d-e051-4758-e1a8-f2a6009f405e"
      },
      "execution_count": null,
      "outputs": [
        {
          "output_type": "stream",
          "name": "stdout",
          "text": [
            "Best score:  0.5930196078431373\n",
            "Best parameter:  {'n_neighbors': 2}\n"
          ]
        }
      ]
    },
    {
      "cell_type": "markdown",
      "source": [
        "# DECISION TREE"
      ],
      "metadata": {
        "id": "1oHycA8tpv5A"
      }
    },
    {
      "cell_type": "code",
      "source": [
        "from sklearn.tree import DecisionTreeClassifier\n",
        "dt = DecisionTreeClassifier()\n",
        "dt.fit(xtrain_sc, y_train)\n",
        "dt_train_results = dt.predict(xtrain_sc)\n",
        "dt_test_results = dt.predict(xtest_sc)\n",
        "print(\"Training accuracy: \", accuracy_score(dt_train_results, y_train))\n",
        "print(\"Testing accuracy: \", accuracy_score(dt_test_results, y_test))\n",
        "#since the difference is more than 20 we'll put criterion as entropy"
      ],
      "metadata": {
        "colab": {
          "base_uri": "https://localhost:8080/"
        },
        "id": "kXdml98CpqQJ",
        "outputId": "41eab7e3-b594-4a5f-92f9-df5da08dc7de"
      },
      "execution_count": null,
      "outputs": [
        {
          "output_type": "stream",
          "name": "stdout",
          "text": [
            "Training accuracy:  1.0\n",
            "Testing accuracy:  0.5176470588235295\n"
          ]
        }
      ]
    },
    {
      "cell_type": "code",
      "source": [
        "params = { 'criterion' : ['gini', 'entropy'],'max_depth' : [6]}\n",
        "gs = GridSearchCV(estimator=dt, param_grid=params)\n",
        "gs.fit(xtrain_sc, y_train)\n",
        "print(\"Best score: \" , gs.best_score_)\n",
        "print(\"Best parameter: \", gs.best_params_)"
      ],
      "metadata": {
        "id": "4pQ7E6JnqeBm",
        "colab": {
          "base_uri": "https://localhost:8080/"
        },
        "outputId": "010df140-1b4e-4638-a085-721023258c97"
      },
      "execution_count": null,
      "outputs": [
        {
          "output_type": "stream",
          "name": "stdout",
          "text": [
            "Best score:  0.5574901960784314\n",
            "Best parameter:  {'criterion': 'gini', 'max_depth': 6}\n"
          ]
        }
      ]
    },
    {
      "cell_type": "code",
      "source": [
        "from sklearn.tree import DecisionTreeClassifier\n",
        "dt = DecisionTreeClassifier(criterion = 'entropy',max_depth = 5)\n",
        "dt.fit(xtrain_sc, y_train)\n",
        "dt_train_results = dt.predict(xtrain_sc)\n",
        "dt_test_results = dt.predict(xtest_sc)\n",
        "print(\"TRAINING\")\n",
        "print(\"Training accuracy: \", accuracy_score(dt_train_results, y_train))\n",
        "print(\"Precision Accuracy:\", precision_score(y_train,dt_train_results,average='weighted'))\n",
        "print(\"Recall Score:\", recall_score(y_train,dt_train_results,average='weighted'))\n",
        "print(\"F1 Score:\", f1_score(y_train,dt_train_results,average='weighted'))\n",
        "print()\n",
        "print(\"TESTING\")\n",
        "print(\"Testing accuracy: \", accuracy_score(dt_test_results, y_test))\n",
        "print(\"Precision Accuracy:\", precision_score(y_test,dt_test_results,average='weighted'))\n",
        "print(\"Recall Score:\", recall_score(y_test, dt_test_results,average='weighted'))\n",
        "print(\"F1 Score:\", f1_score(y_test,dt_test_results,average='weighted'))\n",
        "# the difference is less now"
      ],
      "metadata": {
        "colab": {
          "base_uri": "https://localhost:8080/"
        },
        "id": "zfyfDFi6qBRB",
        "outputId": "518bb4db-9b4a-4d79-95ff-6d692168ea58"
      },
      "execution_count": null,
      "outputs": [
        {
          "output_type": "stream",
          "name": "stdout",
          "text": [
            "TRAINING\n",
            "Training accuracy:  0.7154150197628458\n",
            "Precision Accuracy: 0.7495336954092165\n",
            "Recall Score: 0.7154150197628458\n",
            "F1 Score: 0.7224389751459495\n",
            "\n",
            "TESTING\n",
            "Testing accuracy:  0.4823529411764706\n",
            "Precision Accuracy: 0.4795518207282913\n",
            "Recall Score: 0.4823529411764706\n",
            "F1 Score: 0.47445378151260503\n"
          ]
        }
      ]
    },
    {
      "cell_type": "markdown",
      "source": [
        "# BEST SCORE GRAPH"
      ],
      "metadata": {
        "id": "sNZ1qf070crC"
      }
    },
    {
      "cell_type": "code",
      "source": [
        "alg = ['Perceptron', 'Logistic Regression', 'SVM','KNN','Decision Tree']\n",
        "bs = [0.46690196078431373,0.4939607843137255,0.6282352941176471,0.5967058823529412,0.5491764705882354]\n",
        "plt.bar(alg, bs, color='pink')\n",
        "plt.xlabel('Algorithms')\n",
        "plt.ylabel('Best Score')\n",
        "plt.xticks(r, alg, rotation=45)\n",
        "plt.title('Comparison of Best Score for Different Algorithms')\n",
        "plt.show()"
      ],
      "metadata": {
        "colab": {
          "base_uri": "https://localhost:8080/",
          "height": 562
        },
        "id": "S07HhIdkzxN0",
        "outputId": "7c15c810-ffd2-49ba-f5c8-ff5dff994cb2"
      },
      "execution_count": null,
      "outputs": [
        {
          "output_type": "display_data",
          "data": {
            "text/plain": [
              "<Figure size 640x480 with 1 Axes>"
            ],
            "image/png": "[encoded data removed]"
          },
          "metadata": {}
        }
      ]
    },
    {
      "cell_type": "markdown",
      "source": [
        "# TRAINING RESULTS GRAPH"
      ],
      "metadata": {
        "id": "nOKKoqdk3s1Y"
      }
    },
    {
      "cell_type": "code",
      "source": [
        "tr = [0.3675889328063241,0.5177865612648221,0.6521739130434783,0.7391304347826086,0.6561264822134387]\n",
        "pr = [0.37764162575326915,0.48109970276543934,0.657764505229124,0.7515386416333287,0.6613542530653105]\n",
        "rs = [0.3675889328063241, 0.5177865612648221,0.6521739130434783,0.7391304347826086,0.6561264822134387]\n",
        "f1 = [0.34428589570024876,0.4812318527523994,0.6244910554813298,0.7296296694178803,0.6481631791086315]\n",
        "alg = ['Perceptron', 'Logistic Regression', 'SVM','KNN','Decision Tree']\n",
        "\n",
        "r = np.arange(len(alg))\n",
        "plt.figure()\n",
        "\n",
        "plt.plot(r, tr, marker='o', label='Training Accuracy',color = 'salmon')\n",
        "plt.plot(r, pr, marker='s', label='Precision',color = 'hotpink')\n",
        "plt.plot(r, rs, marker='^', label='Recall',color = 'deeppink')\n",
        "plt.plot(r, f1, marker='d', label='F1 Score',color = 'mediumvioletred')\n",
        "\n",
        "plt.xticks(r, alg, rotation=45)\n",
        "\n",
        "plt.xlabel('Algorithms')\n",
        "plt.ylabel('Score')\n",
        "plt.title('Performance Metrics of Different Algorithms')\n",
        "plt.legend()\n",
        "plt.ylim(0.3, 0.77)\n",
        "plt.grid(True)\n",
        "plt.show()"
      ],
      "metadata": {
        "colab": {
          "base_uri": "https://localhost:8080/",
          "height": 562
        },
        "id": "Rvdyg3RW3M12",
        "outputId": "6c06fe4b-1d5c-4bcd-b795-113a25b45fb6"
      },
      "execution_count": null,
      "outputs": [
        {
          "output_type": "display_data",
          "data": {
            "text/plain": [
              "<Figure size 640x480 with 1 Axes>"
            ],
            "image/png": "[encoded data removed]"
          },
          "metadata": {}
        }
      ]
    },
    {
      "cell_type": "markdown",
      "source": [
        "# TESTING RESULTS GRAPH"
      ],
      "metadata": {
        "id": "90XFWqmg7ZYq"
      }
    },
    {
      "cell_type": "code",
      "source": [
        "tr = [0.43529411764705883,0.4823529411764706,0.5294117647058824,0.5176470588235295,0.5294117647058824]\n",
        "pr = [0.4860130718954248,0.4986309369725711,0.5326797385620915,0.49798761609907116,0.4800150829562595]\n",
        "rs = [0.43529411764705883,0.4823529411764706,0.5294117647058824,0.5176470588235295,0.5294117647058824]\n",
        "f1 = [0.4334865726346457,0.4555699692333496,0.50741408307389,0.4945221224645358,0.49762874071584773]\n",
        "alg = ['Perceptron', 'Logistic Regression', 'SVM','KNN','Decision Tree']\n",
        "\n",
        "r = np.arange(len(alg))\n",
        "plt.figure()\n",
        "\n",
        "plt.plot(r, tr, marker='o', label='Testing Accuracy',color = 'pink')\n",
        "plt.plot(r, pr, marker='s', label='Precision',color = 'hotpink')\n",
        "plt.plot(r, rs, marker='^', label='Recall',color = 'deeppink')\n",
        "plt.plot(r, f1, marker='d', label='F1 Score',color = 'mediumvioletred')\n",
        "\n",
        "plt.xticks(r, alg, rotation=45)\n",
        "\n",
        "plt.xlabel('Algorithms')\n",
        "plt.ylabel('Score')\n",
        "plt.title('Performance Metrics of Different Algorithms')\n",
        "plt.legend()\n",
        "plt.ylim(0.4, 0.6)\n",
        "plt.grid(True)\n",
        "plt.show()"
      ],
      "metadata": {
        "colab": {
          "base_uri": "https://localhost:8080/",
          "height": 562
        },
        "id": "fzr9o9ki3oze",
        "outputId": "80354eb6-82aa-4888-8d4d-24a0ae9339cc"
      },
      "execution_count": null,
      "outputs": [
        {
          "output_type": "display_data",
          "data": {
            "text/plain": [
              "<Figure size 640x480 with 1 Axes>"
            ],
            "image/png": "[encoded data removed]"
          },
          "metadata": {}
        }
      ]
    },
    {
      "cell_type": "markdown",
      "source": [
        "# CROSS VALIDATION"
      ],
      "metadata": {
        "id": "bcY_-JFABm_n"
      }
    },
    {
      "cell_type": "code",
      "source": [
        "from sklearn.model_selection import cross_val_score, KFold\n",
        "kf = KFold(n_splits=5, shuffle=True, random_state=42)\n",
        "algorithms = [p,lr,svc,knn,dt]\n",
        "for algorithm in algorithms:\n",
        "    scores = cross_val_score(algorithm, xtrain_sc, y_train, cv=kf, scoring='accuracy')\n",
        "    print(f\"{algorithm.__class__.__name__}: Average Accuracy: {scores.mean()}, Std: {scores.std()}\")"
      ],
      "metadata": {
        "colab": {
          "base_uri": "https://localhost:8080/"
        },
        "id": "0DfY2ouxAFjf",
        "outputId": "44a7db6a-96ad-4bcb-ab23-8684a1af225b"
      },
      "execution_count": null,
      "outputs": [
        {
          "output_type": "stream",
          "name": "stdout",
          "text": [
            "Perceptron: Average Accuracy: 0.39866666666666667, Std: 0.08859051807247262\n",
            "LogisticRegression: Average Accuracy: 0.49011764705882344, Std: 0.03162292249651035\n",
            "SVC: Average Accuracy: 0.5176470588235293, Std: 0.04697705314004288\n",
            "KNeighborsClassifier: Average Accuracy: 0.5495686274509805, Std: 0.04553723058633759\n",
            "DecisionTreeClassifier: Average Accuracy: 0.5375686274509804, Std: 0.038019724134963566\n"
          ]
        }
      ]
    },
    {
      "cell_type": "code",
      "source": [
        "\n",
        "alg = ['Perceptron', 'Logistic Regression', 'SVM', 'KNeighbors', 'Decision Tree']\n",
        "avg = [0.387686274509804, 0.49035294117647055, 0.5255686274509804, 0.5534901960784314, 0.5489411764705883]\n",
        "std = [0.07353651207548265, 0.03689327063186708, 0.061322299794885335, 0.016522048461125736, 0.050098188864363416]\n",
        "\n",
        "\n",
        "r = np.arange(len(alg))\n",
        "barw = 0.4\n",
        "plt.figure(figsize=(12, 6))\n",
        "plt.bar(r, avg, color='pink', width=barw, label='Average Accuracy')\n",
        "plt.bar(r + barw, std, color='salmon', width=barw,label='Standard Deviation')\n",
        "\n",
        "plt.xticks([r + barw/2 for r in range(len(alg))], alg)\n",
        "\n",
        "plt.ylabel('Average Accuracy')\n",
        "plt.xlabel('Algorithms')\n",
        "plt.title('Average Accuracy and Standard Deviation of Different Algorithms')\n",
        "plt.legend()\n",
        "plt.tight_layout()\n",
        "plt.show()"
      ],
      "metadata": {
        "colab": {
          "base_uri": "https://localhost:8080/",
          "height": 607
        },
        "id": "6ps5-IdfBkyR",
        "outputId": "29318e17-9863-4b12-b412-9815b42a635d"
      },
      "execution_count": null,
      "outputs": [
        {
          "output_type": "display_data",
          "data": {
            "text/plain": [
              "<Figure size 1200x600 with 1 Axes>"
            ],
            "image/png": "[encoded data removed]"
          },
          "metadata": {}
        }
      ]
    },
    {
      "cell_type": "code",
      "source": [],
      "metadata": {
        "id": "AjwAZpbsVGYq"
      },
      "execution_count": null,
      "outputs": []
    }
  ]
}